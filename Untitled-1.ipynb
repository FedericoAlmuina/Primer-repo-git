{
 "cells": [
  {
   "cell_type": "code",
   "execution_count": null,
   "metadata": {},
   "outputs": [
    {
     "name": "stdout",
     "output_type": "stream",
     "text": [
      "Hola mundo\n"
     ]
    }
   ],
   "source": [
    "nombre = input (\"Ingrese su nombre: \")\n",
    "apellido = input (\"Ingrese su apellido: \")\n",
    "edad = input (\"Ingrese su edad: \")\n",
    "lugar_de_residencia = input (\"Ingrese su lugar de residencia: \")\n",
    "print(f\"Soy {nombre} {apellido}, tengo {edad} años y vivo en {lugar_de_residencia}.\")"
   ]
  }
 ],
 "metadata": {
  "kernelspec": {
   "display_name": "Python 3",
   "language": "python",
   "name": "python3"
  },
  "language_info": {
   "codemirror_mode": {
    "name": "ipython",
    "version": 3
   },
   "file_extension": ".py",
   "mimetype": "text/x-python",
   "name": "python",
   "nbconvert_exporter": "python",
   "pygments_lexer": "ipython3",
   "version": "3.13.2"
  }
 },
 "nbformat": 4,
 "nbformat_minor": 2
}
